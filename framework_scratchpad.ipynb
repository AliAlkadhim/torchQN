{
 "cells": [
  {
   "cell_type": "code",
   "execution_count": 21,
   "id": "df926a02-ba22-4483-b78e-52a3af20487f",
   "metadata": {},
   "outputs": [
    {
     "data": {
      "text/plain": [
       "array([306.27906611, 313.9421287 , 318.8482231 , ..., 326.16471207,\n",
       "       323.6135837 , 319.767485  ])"
      ]
     },
     "execution_count": 21,
     "metadata": {},
     "output_type": "execute_result"
    }
   ],
   "source": [
    "import numpy as np\n",
    "y = np.load('predicted.npy')\n",
    "y"
   ]
  },
  {
   "cell_type": "code",
   "execution_count": 22,
   "id": "0f057cc2-1442-4d30-a28b-f7ec331e48e3",
   "metadata": {},
   "outputs": [
    {
     "data": {
      "text/plain": [
       "(array([38., 80., 68., 62., 50., 41., 38., 42., 17.,  6.]),\n",
       " array([ 25. ,  57.1,  89.2, 121.3, 153.4, 185.5, 217.6, 249.7, 281.8,\n",
       "        313.9, 346. ]),\n",
       " <BarContainer object of 10 artists>)"
      ]
     },
     "execution_count": 22,
     "metadata": {},
     "output_type": "execute_result"
    },
    {
     "data": {
      "image/png": "[encoded data removed]",
      "text/plain": [
       "<Figure size 432x288 with 1 Axes>"
      ]
     },
     "metadata": {
      "needs_background": "light"
     },
     "output_type": "display_data"
    }
   ],
   "source": [
    "from sklearn.datasets import load_diabetes\n",
    "import matplotlib.pyplot as plt\n",
    "examples_x, examples_y = load_diabetes(return_X_y=True)\n",
    "plt.hist(examples_y)"
   ]
  },
  {
   "cell_type": "code",
   "execution_count": 23,
   "id": "13f0d7a7-eace-46e3-950f-1aa88f758b58",
   "metadata": {},
   "outputs": [
    {
     "data": {
      "text/plain": [
       "(442,)"
      ]
     },
     "execution_count": 23,
     "metadata": {},
     "output_type": "execute_result"
    }
   ],
   "source": [
    "examples_y.shape"
   ]
  },
  {
   "cell_type": "code",
   "execution_count": 24,
   "id": "63abad6d-f814-45b5-a77f-e2549b85a40a",
   "metadata": {},
   "outputs": [
    {
     "data": {
      "text/plain": [
       "(array([ 300.,    0.,  600.,  300.,  400., 1200., 1900., 3107., 4793.,\n",
       "        7400.]),\n",
       " array([149.47607998, 168.69036017, 187.90464036, 207.11892055,\n",
       "        226.33320074, 245.54748093, 264.76176112, 283.97604131,\n",
       "        303.1903215 , 322.40460169, 341.61888188]),\n",
       " <BarContainer object of 10 artists>)"
      ]
     },
     "execution_count": 24,
     "metadata": {},
     "output_type": "execute_result"
    },
    {
     "data": {
      "image/png": "[encoded data removed]",
      "text/plain": [
       "<Figure size 432x288 with 1 Axes>"
      ]
     },
     "metadata": {
      "needs_background": "light"
     },
     "output_type": "display_data"
    }
   ],
   "source": [
    "plt.hist(y)"
   ]
  },
  {
   "cell_type": "code",
   "execution_count": 20,
   "id": "5a52285a-1ea1-4518-8e9b-93ec6237053a",
   "metadata": {},
   "outputs": [
    {
     "data": {
      "text/plain": [
       "(20000,)"
      ]
     },
     "execution_count": 20,
     "metadata": {},
     "output_type": "execute_result"
    }
   ],
   "source": [
    "y.shape"
   ]
  },
  {
   "cell_type": "code",
   "execution_count": 29,
   "id": "86265454-e6f0-4ebb-be56-b3b11058b6e0",
   "metadata": {},
   "outputs": [
    {
     "data": {
      "text/plain": [
       "array([False, False, False, False, False, False, False, False, False,\n",
       "       False, False, False, False, False, False, False, False, False,\n",
       "       False, False, False, False, False, False, False, False, False,\n",
       "       False, False, False, False, False, False, False, False, False,\n",
       "       False, False, False, False, False, False, False, False, False,\n",
       "       False, False, False, False, False, False, False, False, False,\n",
       "       False, False, False, False, False, False, False, False, False,\n",
       "       False, False, False, False, False, False, False, False, False,\n",
       "       False, False, False, False, False, False, False, False, False,\n",
       "       False, False, False, False, False, False, False, False, False,\n",
       "       False, False, False, False, False, False, False, False, False,\n",
       "       False])"
      ]
     },
     "execution_count": 29,
     "metadata": {},
     "output_type": "execute_result"
    }
   ],
   "source": [
    "np.zeros(100\n",
    "         , dtype=bool)"
   ]
  },
  {
   "cell_type": "code",
   "execution_count": 7,
   "id": "25c1ccfa-b790-4875-b418-443b6cdf7849",
   "metadata": {},
   "outputs": [
    {
     "data": {
      "text/plain": [
       "(20, 10)"
      ]
     },
     "execution_count": 7,
     "metadata": {},
     "output_type": "execute_result"
    }
   ],
   "source": [
    "from sklearn.datasets import load_diabetes\n",
    "import numpy as np\n",
    "import data_loader_diabetes as dat\n",
    "\n",
    "training_set_x, training_set_y, evaluation_set_x, evaluation_set_y = dat.get_data_set()\n",
    "sample_x = next(training_set_x())\n",
    "sample_x.shape"
   ]
  },
  {
   "cell_type": "code",
   "execution_count": 8,
   "id": "ca464c01-c0c5-482f-bc51-3adc30631b14",
   "metadata": {},
   "outputs": [
    {
     "data": {
      "text/plain": [
       "(20, 10)"
      ]
     },
     "execution_count": 8,
     "metadata": {},
     "output_type": "execute_result"
    }
   ],
   "source": [
    "sample_y = next(training_set_y())\n",
    "sample_y.shape"
   ]
  },
  {
   "cell_type": "code",
   "execution_count": 9,
   "id": "aac77d33-97c2-4273-bd75-d5297cd1a953",
   "metadata": {},
   "outputs": [
    {
     "name": "stdout",
     "output_type": "stream",
     "text": [
      "/home/ali/build_root/lib:/home/ali/external/LHAPDF-6.3.0/lib/python3.9/site-packages:/home/ali/Desktop/Pulled_Github_Repositories/PytorchFramework\n"
     ]
    },
    {
     "data": {
      "text/plain": [
       "0"
      ]
     },
     "execution_count": 9,
     "metadata": {},
     "output_type": "execute_result"
    }
   ],
   "source": [
    "import os\n",
    "os.system('echo $PYTHONPATH')"
   ]
  },
  {
   "cell_type": "code",
   "execution_count": null,
   "id": "2ef9d58f-99ec-478f-bea3-84bf9d2c646f",
   "metadata": {},
   "outputs": [],
   "source": []
  }
 ],
 "metadata": {
  "kernelspec": {
   "display_name": "Python 3 (ipykernel)",
   "language": "python",
   "name": "python3"
  },
  "language_info": {
   "codemirror_mode": {
    "name": "ipython",
    "version": 3
   },
   "file_extension": ".py",
   "mimetype": "text/x-python",
   "name": "python",
   "nbconvert_exporter": "python",
   "pygments_lexer": "ipython3",
   "version": "3.7.10"
  }
 },
 "nbformat": 4,
 "nbformat_minor": 5
}
