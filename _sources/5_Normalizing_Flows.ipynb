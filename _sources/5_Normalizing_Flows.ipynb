{
 "cells": [
  {
   "cell_type": "markdown",
   "id": "f86d964a-1195-4462-9aa3-69744ba3063b",
   "metadata": {},
   "source": [
    "# Chapter 5 - Normalizing Flows"
   ]
  },
  {
   "cell_type": "code",
   "execution_count": 1,
   "id": "d95f7cbc-e563-4eed-9db5-384429c64b1b",
   "metadata": {},
   "outputs": [
    {
     "name": "stdout",
     "output_type": "stream",
     "text": [
      "using torch version 1.11.0.post2\n",
      "matplotlib version=  3.5.3\n",
      "using (optional) optuna version 3.0.0\n"
     ]
    }
   ],
   "source": [
    "import numpy as np; import pandas as pd\n",
    "# import scipy as sp; import scipy.stats as st\n",
    "import torch; import torch.nn as nn; print(f\"using torch version {torch.__version__}\")\n",
    "from torch import optim\n",
    "\n",
    "#use numba's just-in-time compiler to speed things up\n",
    "# from numba import njit\n",
    "from sklearn.preprocessing import StandardScaler; from sklearn.model_selection import train_test_split\n",
    "import matplotlib as mp; print('matplotlib version= ', mp.__version__)\n",
    "\n",
    "import matplotlib.pyplot as plt; \n",
    "#reset matplotlib stle/parameters\n",
    "import matplotlib as mpl\n",
    "#reset matplotlib parameters to their defaults\n",
    "mpl.rcParams.update(mpl.rcParamsDefault)\n",
    "plt.style.use('seaborn-deep')\n",
    "mp.rcParams['agg.path.chunksize'] = 10000\n",
    "font_legend = 15; font_axes=15\n",
    "# LATEX\n",
    "mp.rcParams.update({\"text.usetex\": True})\n",
    "# plt.rcParams['text.usetex'] = True\n",
    "# mp.rcParams[\"text.latex.preamble\"] = [r\"\\usepackage{amsmath}\"]  # for \\text command\n",
    "\n",
    "# %matplotlib inline\n",
    "import sys; import os\n",
    "from IPython.display import Image, display\n",
    "# from importlib import import_module\n",
    "\n",
    "try:\n",
    "    import optuna\n",
    "    print(f\"using (optional) optuna version {optuna.__version__}\")\n",
    "except Exception:\n",
    "    print('optuna is only used for hyperparameter tuning, not critical!')\n",
    "    pass\n",
    "import argparse\n",
    "import time\n",
    "# import sympy as sy\n",
    "\n",
    "from nflows.flows.base import Flow\n",
    "from nflows.distributions.normal import StandardNormal\n",
    "from nflows.transforms.base import CompositeTransform\n",
    "from nflows.transforms.autoregressive import MaskedAffineAutoregressiveTransform\n",
    "from nflows.transforms.permutations import ReversePermutation\n",
    "from nflows.distributions.normal import ConditionalDiagonalNormal\n"
   ]
  },
  {
   "cell_type": "code",
   "execution_count": 2,
   "id": "b35f0507-0069-4639-a163-694055d7a7d7",
   "metadata": {},
   "outputs": [
    {
     "name": "stdout",
     "output_type": "stream",
     "text": [
      "BASE directoy properly set =  /home/ali/Desktop/Pulled_Github_Repositories/torchQN\n",
      "using torch version 1.11.0.post2\n",
      "matplotlib version=  3.5.3\n",
      "using (optional) optuna version 3.0.0\n",
      "BASE directoy properly set =  /home/ali/Desktop/Pulled_Github_Repositories/torchQN\n",
      "DATA directory also properly set, in /home/ali/Desktop/Pulled_Github_Repositories/IQN_HEP/Davidson/data\n",
      "DATA directory also properly set, in /home/ali/Desktop/Pulled_Github_Repositories/IQN_HEP/Davidson/data\n"
     ]
    }
   ],
   "source": [
    "# env = {}\n",
    "# env.update(os.environ)\n",
    "# env.update(source(os.environ[\"IQN_BASE\"])) \n",
    "\n",
    "try:\n",
    "    IQN_BASE = os.environ['IQN_BASE']\n",
    "    print('BASE directoy properly set = ', IQN_BASE)\n",
    "    utils_dir = os.path.join(IQN_BASE, 'utils/')\n",
    "    sys.path.append(utils_dir)\n",
    "    import utils\n",
    "    #usually its not recommended to import everything from a module, but we know\n",
    "    #whats in it so its fine\n",
    "    from utils import *\n",
    "    print('DATA directory also properly set, in %s' % os.environ['DATA_DIR'])\n",
    "except Exception:\n",
    "    # IQN_BASE=os.getcwd()\n",
    "    print(\"\"\"\\nBASE directory not properly set. Read repo README.\\\n",
    "    If you need a function from utils, use the decorator below, or add utils to sys.path\\n\n",
    "    You can also do \n",
    "    os.environ['IQN_BASE']=<ABSOLUTE PATH FOR THE IQN REPO>\n",
    "    or\n",
    "    os.environ['IQN_BASE']=os.getcwd()\"\"\")\n",
    "    pass"
   ]
  },
  {
   "cell_type": "code",
   "execution_count": 3,
   "id": "86657fdc-9665-4687-80e4-bfa8bde6b984",
   "metadata": {},
   "outputs": [],
   "source": [
    "# update fonts\n",
    "FONTSIZE = 14\n",
    "font = {'family' : 'serif',\n",
    "        'weight' : 'normal',\n",
    "        'size'   : FONTSIZE}\n",
    "mp.rc('font', **font)\n",
    "\n",
    "# set usetex = False if LaTex is not \n",
    "# available on your system or if the \n",
    "# rendering is too slow\n",
    "mp.rc('text', usetex=True)\n",
    "\n",
    "# set a seed to ensure reproducibility\n",
    "seed = 128\n",
    "rnd  = np.random.RandomState(seed)\n",
    "#sometimes jupyter doesnt initialize MathJax automatically for latex, so do this:"
   ]
  },
  {
   "cell_type": "code",
   "execution_count": 4,
   "id": "99ecee3f-5754-45fc-a0a0-2d32d181b871",
   "metadata": {},
   "outputs": [],
   "source": [
    "################################### SET DATA CONFIGURATIONS ###################################\n",
    "X       = ['RecoDatapT', 'RecoDataeta', 'RecoDataphi', 'RecoDatam']\n",
    "COND = ['genDatapT', 'genDataeta', 'genDataphi', 'genDatam']\n",
    "#set order of training:\n",
    "#pT_first: pT->>m->eta->phi\n",
    "#m_first: m->pT->eta->phi\n",
    "\n",
    "\n",
    "\n",
    "#we'll just go with m first since that's the order we discuss in the paper.\n",
    "ORDER='m_First'\n",
    "\n",
    "if ORDER=='m_First':\n",
    "    FIELDS  = {'RecoDatam' : {'inputs': X, \n",
    "                               'xlabel':  r'$m$ (GeV)', \n",
    "                              'ylabel':'$m^{reco}$',\n",
    "                               'xmin': 0, \n",
    "                               'xmax': 25},\n",
    "                           \n",
    "\n",
    "               'RecoDatapT': {'inputs': X, \n",
    "                               'xlabel':  r'$p_T$ (GeV)' , \n",
    "                              'ylabel': '$p_T^{reco}$',\n",
    "                               'xmin'  : 20, \n",
    "                               'xmax'  :  100},\n",
    "\n",
    "               'RecoDataeta': {'inputs': X, \n",
    "                               'xlabel': r'$\\eta$',\n",
    "                               'ylabel':'$\\eta^{reco}$',\n",
    "                               'xmin'  : -5,\n",
    "                               'xmax'  :  5},\n",
    "\n",
    "               'RecoDataphi'  : {'inputs': X,\n",
    "                               'xlabel': r'$\\phi$' ,\n",
    "                                'ylabel' :'$\\phi^{reco}$',\n",
    "                               'xmin'  : -3.2, \n",
    "                               'xmax'  :3.2}\n",
    "              }\n",
    "    \n",
    "PARAMS_m = {\n",
    "\"n_layers\": int(4),\n",
    "\"hidden_size\": int(6),\n",
    "\"dropout_1\": float(0.6),\n",
    "\"dropout_2\": float(0.1),\n",
    "\"activation\": \"LeakyReLU\",\n",
    "    'optimizer_name':'NAdam',\n",
    "    'starting_learning_rate':float(0.7),\n",
    "    'momentum':float(0.6),\n",
    "    'batch_size':int(1024),\n",
    "    'n_iterations': int(2e6),\n",
    "}\n",
    "\n",
    "all_variable_cols = [\n",
    "    \"genDatapT\",\n",
    "    \"genDataeta\",\n",
    "    \"genDataphi\",\n",
    "    \"genDatam\",\n",
    "    \"RecoDatapT\",\n",
    "    \"RecoDataeta\",\n",
    "    \"RecoDataphi\",\n",
    "    \"RecoDatam\",\n",
    "]\n",
    "all_cols = [\n",
    "    \"genDatapT\",\n",
    "    \"genDataeta\",\n",
    "    \"genDataphi\",\n",
    "    \"genDatam\",\n",
    "    \"RecoDatapT\",\n",
    "    \"RecoDataeta\",\n",
    "    \"RecoDataphi\",\n",
    "    \"RecoDatam\",\n",
    "    \"tau\",\n",
    "]"
   ]
  },
  {
   "cell_type": "code",
   "execution_count": 5,
   "id": "d9e85adc-4e40-47d0-92f1-4b018274a429",
   "metadata": {},
   "outputs": [
    {
     "name": "stdout",
     "output_type": "stream",
     "text": [
      "using DATA_DIR=/home/ali/Desktop/Pulled_Github_Repositories/IQN_HEP/Davidson/data\n",
      "USING NEW DATASET\n",
      "\n"
     ]
    }
   ],
   "source": [
    "from joblib import  Memory\n",
    "DATA_DIR = os.environ[\"DATA_DIR\"]\n",
    "print(f\"using DATA_DIR={DATA_DIR}\")\n",
    "# Define a directory on device to cache python functions. One of the best ways is using joblib's Memory module\n",
    "# with @Memory.cache decorator on top of a function. This saves a huge amount of time, especially in functions\n",
    "# that require a long time to execute, e.g. loading data.\n",
    "memory = Memory(DATA_DIR)\n",
    "\n",
    "print(\"USING NEW DATASET\\n\")\n",
    "######################################\n",
    "USE_BRADEN_SCALING=False\n",
    "#####################################\n",
    "################################### CONFIGURATIONS ###################################\n",
    "@memory.cache\n",
    "def load_raw_data():\n",
    "    print(f'SUBSAMPLE = {SUBSAMPLE}')\n",
    "    raw_train_data=pd.read_csv(os.path.join(DATA_DIR,'train_data_10M_2.csv'),\n",
    "                        usecols=all_cols,\n",
    "                        nrows=SUBSAMPLE\n",
    "                        )\n",
    "\n",
    "    raw_test_data=pd.read_csv(os.path.join(DATA_DIR,'test_data_10M_2.csv'),\n",
    "                        usecols=all_cols,\n",
    "                        nrows=SUBSAMPLE\n",
    "                        )\n",
    "\n",
    "    raw_valid_data=pd.read_csv(os.path.join(DATA_DIR,'validation_data_10M_2.csv'),\n",
    "                        usecols=all_cols,\n",
    "                        nrows=SUBSAMPLE\n",
    "                        )\n",
    "\n",
    "\n",
    "    print('\\n RAW TRAIN DATA SHAPE\\n')\n",
    "    print(raw_train_data.shape)\n",
    "    print('\\n RAW TRAIN DATA\\n')\n",
    "    raw_train_data.describe()#unscaled\n",
    "    print('\\n RAW TEST DATA\\ SHAPEn')\n",
    "    print(raw_test_data.shape)\n",
    "    print('\\n RAW TEST DATA\\n')\n",
    "    raw_test_data.describe()#unscaled\n",
    "\n",
    "    return raw_train_data, raw_test_data, raw_valid_data\n",
    "\n",
    "    \n",
    "JUPYTER = False\n",
    "use_subsample = True\n",
    "# use_subsample = True\n",
    "if use_subsample:\n",
    "    SUBSAMPLE = int(\n",
    "        1e5\n",
    "    )  # subsample use for development - in production use whole dataset\n",
    "else:\n",
    "    SUBSAMPLE = None\n",
    "\n",
    "\n",
    "\n",
    "\n",
    "########################################################################################\n",
    "raw_train_data, raw_test_data, raw_valid_data =load_raw_data()"
   ]
  },
  {
   "cell_type": "code",
   "execution_count": 6,
   "id": "d5bbac9c-4439-4cdc-b1d3-8151d514fb29",
   "metadata": {},
   "outputs": [
    {
     "data": {
      "text/html": [
       "<div>\n",
       "<style scoped>\n",
       "    .dataframe tbody tr th:only-of-type {\n",
       "        vertical-align: middle;\n",
       "    }\n",
       "\n",
       "    .dataframe tbody tr th {\n",
       "        vertical-align: top;\n",
       "    }\n",
       "\n",
       "    .dataframe thead th {\n",
       "        text-align: right;\n",
       "    }\n",
       "</style>\n",
       "<table border=\"1\" class=\"dataframe\">\n",
       "  <thead>\n",
       "    <tr style=\"text-align: right;\">\n",
       "      <th></th>\n",
       "      <th>genDatapT</th>\n",
       "      <th>genDataeta</th>\n",
       "      <th>genDataphi</th>\n",
       "      <th>genDatam</th>\n",
       "      <th>RecoDatapT</th>\n",
       "      <th>RecoDataeta</th>\n",
       "      <th>RecoDataphi</th>\n",
       "      <th>RecoDatam</th>\n",
       "      <th>tau</th>\n",
       "    </tr>\n",
       "  </thead>\n",
       "  <tbody>\n",
       "    <tr>\n",
       "      <th>0</th>\n",
       "      <td>29.4452</td>\n",
       "      <td>0.828187</td>\n",
       "      <td>2.902130</td>\n",
       "      <td>2.85348</td>\n",
       "      <td>31.9132</td>\n",
       "      <td>0.817082</td>\n",
       "      <td>2.919510</td>\n",
       "      <td>2.59587</td>\n",
       "      <td>0.361310</td>\n",
       "    </tr>\n",
       "    <tr>\n",
       "      <th>1</th>\n",
       "      <td>24.3193</td>\n",
       "      <td>-1.163510</td>\n",
       "      <td>0.636469</td>\n",
       "      <td>5.83685</td>\n",
       "      <td>27.3513</td>\n",
       "      <td>-1.151020</td>\n",
       "      <td>0.652153</td>\n",
       "      <td>5.35538</td>\n",
       "      <td>0.126899</td>\n",
       "    </tr>\n",
       "    <tr>\n",
       "      <th>2</th>\n",
       "      <td>24.3193</td>\n",
       "      <td>-1.163510</td>\n",
       "      <td>0.636469</td>\n",
       "      <td>5.83685</td>\n",
       "      <td>27.3513</td>\n",
       "      <td>-1.151020</td>\n",
       "      <td>0.652153</td>\n",
       "      <td>5.35538</td>\n",
       "      <td>0.962307</td>\n",
       "    </tr>\n",
       "    <tr>\n",
       "      <th>3</th>\n",
       "      <td>24.3193</td>\n",
       "      <td>-1.163510</td>\n",
       "      <td>0.636469</td>\n",
       "      <td>5.83685</td>\n",
       "      <td>27.3513</td>\n",
       "      <td>-1.151020</td>\n",
       "      <td>0.652153</td>\n",
       "      <td>5.35538</td>\n",
       "      <td>0.457282</td>\n",
       "    </tr>\n",
       "    <tr>\n",
       "      <th>4</th>\n",
       "      <td>20.1703</td>\n",
       "      <td>1.844410</td>\n",
       "      <td>-0.186685</td>\n",
       "      <td>5.69090</td>\n",
       "      <td>24.2158</td>\n",
       "      <td>1.837910</td>\n",
       "      <td>-0.160621</td>\n",
       "      <td>4.59370</td>\n",
       "      <td>0.840862</td>\n",
       "    </tr>\n",
       "    <tr>\n",
       "      <th>...</th>\n",
       "      <td>...</td>\n",
       "      <td>...</td>\n",
       "      <td>...</td>\n",
       "      <td>...</td>\n",
       "      <td>...</td>\n",
       "      <td>...</td>\n",
       "      <td>...</td>\n",
       "      <td>...</td>\n",
       "      <td>...</td>\n",
       "    </tr>\n",
       "    <tr>\n",
       "      <th>99995</th>\n",
       "      <td>27.3537</td>\n",
       "      <td>-4.341310</td>\n",
       "      <td>2.264160</td>\n",
       "      <td>3.59567</td>\n",
       "      <td>30.2942</td>\n",
       "      <td>-4.349530</td>\n",
       "      <td>2.209270</td>\n",
       "      <td>3.42952</td>\n",
       "      <td>0.110503</td>\n",
       "    </tr>\n",
       "    <tr>\n",
       "      <th>99996</th>\n",
       "      <td>26.8630</td>\n",
       "      <td>4.460970</td>\n",
       "      <td>0.381944</td>\n",
       "      <td>6.05116</td>\n",
       "      <td>23.7580</td>\n",
       "      <td>4.521640</td>\n",
       "      <td>0.457971</td>\n",
       "      <td>4.20833</td>\n",
       "      <td>0.526119</td>\n",
       "    </tr>\n",
       "    <tr>\n",
       "      <th>99997</th>\n",
       "      <td>26.8630</td>\n",
       "      <td>4.460970</td>\n",
       "      <td>0.381944</td>\n",
       "      <td>6.05116</td>\n",
       "      <td>23.7580</td>\n",
       "      <td>4.521640</td>\n",
       "      <td>0.457971</td>\n",
       "      <td>4.20833</td>\n",
       "      <td>0.309711</td>\n",
       "    </tr>\n",
       "    <tr>\n",
       "      <th>99998</th>\n",
       "      <td>21.3142</td>\n",
       "      <td>4.150910</td>\n",
       "      <td>-2.812330</td>\n",
       "      <td>5.26289</td>\n",
       "      <td>21.9671</td>\n",
       "      <td>4.176750</td>\n",
       "      <td>-2.887050</td>\n",
       "      <td>4.14918</td>\n",
       "      <td>0.071362</td>\n",
       "    </tr>\n",
       "    <tr>\n",
       "      <th>99999</th>\n",
       "      <td>34.5862</td>\n",
       "      <td>2.102200</td>\n",
       "      <td>-0.435373</td>\n",
       "      <td>4.55711</td>\n",
       "      <td>44.5515</td>\n",
       "      <td>2.093800</td>\n",
       "      <td>-0.389151</td>\n",
       "      <td>6.66738</td>\n",
       "      <td>0.191490</td>\n",
       "    </tr>\n",
       "  </tbody>\n",
       "</table>\n",
       "<p>100000 rows × 9 columns</p>\n",
       "</div>"
      ],
      "text/plain": [
       "       genDatapT  genDataeta  genDataphi  genDatam  RecoDatapT  RecoDataeta  \\\n",
       "0        29.4452    0.828187    2.902130   2.85348     31.9132     0.817082   \n",
       "1        24.3193   -1.163510    0.636469   5.83685     27.3513    -1.151020   \n",
       "2        24.3193   -1.163510    0.636469   5.83685     27.3513    -1.151020   \n",
       "3        24.3193   -1.163510    0.636469   5.83685     27.3513    -1.151020   \n",
       "4        20.1703    1.844410   -0.186685   5.69090     24.2158     1.837910   \n",
       "...          ...         ...         ...       ...         ...          ...   \n",
       "99995    27.3537   -4.341310    2.264160   3.59567     30.2942    -4.349530   \n",
       "99996    26.8630    4.460970    0.381944   6.05116     23.7580     4.521640   \n",
       "99997    26.8630    4.460970    0.381944   6.05116     23.7580     4.521640   \n",
       "99998    21.3142    4.150910   -2.812330   5.26289     21.9671     4.176750   \n",
       "99999    34.5862    2.102200   -0.435373   4.55711     44.5515     2.093800   \n",
       "\n",
       "       RecoDataphi  RecoDatam       tau  \n",
       "0         2.919510    2.59587  0.361310  \n",
       "1         0.652153    5.35538  0.126899  \n",
       "2         0.652153    5.35538  0.962307  \n",
       "3         0.652153    5.35538  0.457282  \n",
       "4        -0.160621    4.59370  0.840862  \n",
       "...            ...        ...       ...  \n",
       "99995     2.209270    3.42952  0.110503  \n",
       "99996     0.457971    4.20833  0.526119  \n",
       "99997     0.457971    4.20833  0.309711  \n",
       "99998    -2.887050    4.14918  0.071362  \n",
       "99999    -0.389151    6.66738  0.191490  \n",
       "\n",
       "[100000 rows x 9 columns]"
      ]
     },
     "execution_count": 6,
     "metadata": {},
     "output_type": "execute_result"
    }
   ],
   "source": [
    "raw_train_data"
   ]
  },
  {
   "cell_type": "code",
   "execution_count": 7,
   "id": "a0475871-6878-433f-a35d-8af0d6c58312",
   "metadata": {},
   "outputs": [
    {
     "data": {
      "text/html": [
       "<div>\n",
       "<style scoped>\n",
       "    .dataframe tbody tr th:only-of-type {\n",
       "        vertical-align: middle;\n",
       "    }\n",
       "\n",
       "    .dataframe tbody tr th {\n",
       "        vertical-align: top;\n",
       "    }\n",
       "\n",
       "    .dataframe thead th {\n",
       "        text-align: right;\n",
       "    }\n",
       "</style>\n",
       "<table border=\"1\" class=\"dataframe\">\n",
       "  <thead>\n",
       "    <tr style=\"text-align: right;\">\n",
       "      <th></th>\n",
       "      <th>genDatapT</th>\n",
       "      <th>genDataeta</th>\n",
       "      <th>genDataphi</th>\n",
       "      <th>genDatam</th>\n",
       "      <th>RecoDatapT</th>\n",
       "      <th>RecoDataeta</th>\n",
       "      <th>RecoDataphi</th>\n",
       "      <th>RecoDatam</th>\n",
       "      <th>tau</th>\n",
       "    </tr>\n",
       "  </thead>\n",
       "  <tbody>\n",
       "    <tr>\n",
       "      <th>count</th>\n",
       "      <td>100000.000000</td>\n",
       "      <td>100000.000000</td>\n",
       "      <td>100000.000000</td>\n",
       "      <td>100000.000000</td>\n",
       "      <td>100000.000000</td>\n",
       "      <td>100000.000000</td>\n",
       "      <td>100000.000000</td>\n",
       "      <td>100000.000000</td>\n",
       "      <td>100000.000000</td>\n",
       "    </tr>\n",
       "    <tr>\n",
       "      <th>mean</th>\n",
       "      <td>32.839817</td>\n",
       "      <td>0.002209</td>\n",
       "      <td>0.007407</td>\n",
       "      <td>6.989531</td>\n",
       "      <td>32.967169</td>\n",
       "      <td>0.002216</td>\n",
       "      <td>0.007274</td>\n",
       "      <td>5.565402</td>\n",
       "      <td>0.500433</td>\n",
       "    </tr>\n",
       "    <tr>\n",
       "      <th>std</th>\n",
       "      <td>14.903975</td>\n",
       "      <td>2.216944</td>\n",
       "      <td>1.808915</td>\n",
       "      <td>2.789053</td>\n",
       "      <td>15.779735</td>\n",
       "      <td>2.210441</td>\n",
       "      <td>1.809601</td>\n",
       "      <td>2.685486</td>\n",
       "      <td>0.288280</td>\n",
       "    </tr>\n",
       "    <tr>\n",
       "      <th>min</th>\n",
       "      <td>20.000100</td>\n",
       "      <td>-5.123860</td>\n",
       "      <td>-3.141590</td>\n",
       "      <td>-0.000008</td>\n",
       "      <td>11.488700</td>\n",
       "      <td>-4.997590</td>\n",
       "      <td>-3.401475</td>\n",
       "      <td>-0.000031</td>\n",
       "      <td>0.000004</td>\n",
       "    </tr>\n",
       "    <tr>\n",
       "      <th>25%</th>\n",
       "      <td>23.799875</td>\n",
       "      <td>-1.664598</td>\n",
       "      <td>-1.556332</td>\n",
       "      <td>5.131500</td>\n",
       "      <td>23.487200</td>\n",
       "      <td>-1.663780</td>\n",
       "      <td>-1.556070</td>\n",
       "      <td>3.796510</td>\n",
       "      <td>0.250173</td>\n",
       "    </tr>\n",
       "    <tr>\n",
       "      <th>50%</th>\n",
       "      <td>28.525150</td>\n",
       "      <td>0.012869</td>\n",
       "      <td>0.014945</td>\n",
       "      <td>6.555895</td>\n",
       "      <td>29.070900</td>\n",
       "      <td>0.010939</td>\n",
       "      <td>0.017256</td>\n",
       "      <td>5.123870</td>\n",
       "      <td>0.501250</td>\n",
       "    </tr>\n",
       "    <tr>\n",
       "      <th>75%</th>\n",
       "      <td>36.476800</td>\n",
       "      <td>1.669738</td>\n",
       "      <td>1.568370</td>\n",
       "      <td>8.309520</td>\n",
       "      <td>37.664450</td>\n",
       "      <td>1.668075</td>\n",
       "      <td>1.564928</td>\n",
       "      <td>6.781140</td>\n",
       "      <td>0.749984</td>\n",
       "    </tr>\n",
       "    <tr>\n",
       "      <th>max</th>\n",
       "      <td>367.110000</td>\n",
       "      <td>5.118850</td>\n",
       "      <td>3.141550</td>\n",
       "      <td>41.075900</td>\n",
       "      <td>397.992000</td>\n",
       "      <td>4.998390</td>\n",
       "      <td>3.428875</td>\n",
       "      <td>40.567400</td>\n",
       "      <td>0.999995</td>\n",
       "    </tr>\n",
       "  </tbody>\n",
       "</table>\n",
       "</div>"
      ],
      "text/plain": [
       "           genDatapT     genDataeta     genDataphi       genDatam  \\\n",
       "count  100000.000000  100000.000000  100000.000000  100000.000000   \n",
       "mean       32.839817       0.002209       0.007407       6.989531   \n",
       "std        14.903975       2.216944       1.808915       2.789053   \n",
       "min        20.000100      -5.123860      -3.141590      -0.000008   \n",
       "25%        23.799875      -1.664598      -1.556332       5.131500   \n",
       "50%        28.525150       0.012869       0.014945       6.555895   \n",
       "75%        36.476800       1.669738       1.568370       8.309520   \n",
       "max       367.110000       5.118850       3.141550      41.075900   \n",
       "\n",
       "          RecoDatapT    RecoDataeta    RecoDataphi      RecoDatam  \\\n",
       "count  100000.000000  100000.000000  100000.000000  100000.000000   \n",
       "mean       32.967169       0.002216       0.007274       5.565402   \n",
       "std        15.779735       2.210441       1.809601       2.685486   \n",
       "min        11.488700      -4.997590      -3.401475      -0.000031   \n",
       "25%        23.487200      -1.663780      -1.556070       3.796510   \n",
       "50%        29.070900       0.010939       0.017256       5.123870   \n",
       "75%        37.664450       1.668075       1.564928       6.781140   \n",
       "max       397.992000       4.998390       3.428875      40.567400   \n",
       "\n",
       "                 tau  \n",
       "count  100000.000000  \n",
       "mean        0.500433  \n",
       "std         0.288280  \n",
       "min         0.000004  \n",
       "25%         0.250173  \n",
       "50%         0.501250  \n",
       "75%         0.749984  \n",
       "max         0.999995  "
      ]
     },
     "execution_count": 7,
     "metadata": {},
     "output_type": "execute_result"
    }
   ],
   "source": [
    "raw_train_data.describe()"
   ]
  },
  {
   "cell_type": "code",
   "execution_count": 8,
   "id": "669b9a6e-cc87-4e2c-b812-23c5b08815db",
   "metadata": {},
   "outputs": [],
   "source": [
    "def normal_split_t_x(df, target, input_features):\n",
    "    \"\"\"split dataframe into targets and feature arrays.\n",
    "\n",
    "    Args:\n",
    "        df (pandas.DataFrame): Dataframe of train, test or validation data.\n",
    "        target (str): Choice of \"RecoDatapT\", \"RecoDataeta\", \"RecoDataphi\",\"RecoDatam\" as target.\n",
    "        input_features (list(str)): list of training features labels\n",
    "\n",
    "    Returns:\n",
    "    list(numpy.array): list of numpy array of target and training features\n",
    " \"\"\"\n",
    "    # change from pandas dataframe format to a numpy \n",
    "    # array of the specified types\n",
    "    # t = np.array(df[target])\n",
    "    t = np.array(df[target])\n",
    "    x = np.array(df[input_features])\n",
    "    return t, x"
   ]
  },
  {
   "cell_type": "code",
   "execution_count": 9,
   "id": "e5fa2d03-8518-442b-be89-316e20bc9ea6",
   "metadata": {},
   "outputs": [
    {
     "name": "stdout",
     "output_type": "stream",
     "text": [
      "Training Features:\n",
      " ['RecoDatapT', 'RecoDataeta', 'RecoDataphi', 'RecoDatam']\n",
      "\n",
      "Target =  RecoDatapT\n",
      "USING NEW DATASET\n",
      "\n"
     ]
    }
   ],
   "source": [
    "target = \"RecoDatapT\"\n",
    "source = FIELDS[target]\n",
    "features = source[\"inputs\"]\n",
    "print(\"Training Features:\\n\", features)\n",
    "print(\"\\nTarget = \", target)\n",
    "\n",
    "print(\"USING NEW DATASET\\n\")"
   ]
  },
  {
   "cell_type": "code",
   "execution_count": 10,
   "id": "f5eb315c-cdae-407a-ac67-184831668b73",
   "metadata": {},
   "outputs": [
    {
     "name": "stdout",
     "output_type": "stream",
     "text": [
      "spliting data for RecoDatapT\n",
      "train_t shape =  (100000,) train_x shape =  (100000, 4)\n",
      "\n",
      " Training features:\n",
      "\n",
      "[[31.9132    0.817082  2.91951   2.59587 ]\n",
      " [27.3513   -1.15102   0.652153  5.35538 ]\n",
      " [27.3513   -1.15102   0.652153  5.35538 ]\n",
      " ...\n",
      " [23.758     4.52164   0.457971  4.20833 ]\n",
      " [21.9671    4.17675  -2.88705   4.14918 ]\n",
      " [44.5515    2.0938   -0.389151  6.66738 ]]\n",
      "valid_t shape =  (100000,) valid_x shape =  (100000, 4)\n",
      "test_t shape =  (100000,) test_x shape =  (100000, 4)\n",
      "no need to train_test_split since we already have the split dataframes\n",
      "[ 3.28693884e+01 -1.94726970e-03 -1.08829962e-02  5.56171091e+00] [15.57324857  2.19476169  1.81196705  2.6282735 ]\n",
      "[3.29671688e+01 2.21612240e-03 7.27381886e-03 5.56540206e+00] [15.77965621  2.21042978  1.80959243  2.68547229]\n",
      "32.869388404 15.573248566394462\n",
      "32.967168834000006 15.77965621193832\n"
     ]
    }
   ],
   "source": [
    "print(f\"spliting data for {target}\")\n",
    "train_t, train_x = normal_split_t_x(\n",
    "df=raw_train_data, target=target, input_features=features\n",
    ")\n",
    "print(\"train_t shape = \", train_t.shape, \"train_x shape = \", train_x.shape)\n",
    "print(\"\\n Training features:\\n\")\n",
    "print(train_x)\n",
    "valid_t, valid_x = normal_split_t_x(\n",
    "df=raw_valid_data, target=target, input_features=features\n",
    ")\n",
    "print(\"valid_t shape = \", valid_t.shape, \"valid_x shape = \", valid_x.shape)\n",
    "test_t, test_x = normal_split_t_x(df=raw_test_data, target=target, input_features=features)\n",
    "print(\"test_t shape = \", test_t.shape, \"test_x shape = \", test_x.shape)\n",
    "\n",
    "\n",
    "print(\"no need to train_test_split since we already have the split dataframes\")\n",
    "print(valid_x.mean(axis=0), valid_x.std(axis=0))\n",
    "print(train_x.mean(axis=0), train_x.std(axis=0))\n",
    "print(valid_t.mean(), valid_t.std())\n",
    "print(train_t.mean(), train_t.std())\n",
    "NFEATURES = train_x.shape[1]\n",
    "######################################################"
   ]
  },
  {
   "cell_type": "code",
   "execution_count": 11,
   "id": "4127b489-d9c4-480e-9fea-ebea2e66dc13",
   "metadata": {},
   "outputs": [
    {
     "name": "stdout",
     "output_type": "stream",
     "text": [
      "spliting data for RecoDatapT\n",
      "\n",
      " Training features:\n",
      "\n",
      "[[29.4452    0.828187  2.90213   2.85348 ]\n",
      " [24.3193   -1.16351   0.636469  5.83685 ]\n",
      " [24.3193   -1.16351   0.636469  5.83685 ]\n",
      " ...\n",
      " [26.863     4.46097   0.381944  6.05116 ]\n",
      " [21.3142    4.15091  -2.81233   5.26289 ]\n",
      " [34.5862    2.1022   -0.435373  4.55711 ]]\n",
      "test_t shape =  (100000,) test_x shape =  (100000, 4)\n",
      "no need to train_test_split since we already have the split dataframes\n",
      "test_x_cond shape =  (100000, 4)\n",
      "[3.28398167e+01 2.20884209e-03 7.40700042e-03 6.98953116e+00] [14.90390069  2.21693324  1.80890606  2.78903949]\n",
      "32.869388404 15.573248566394462\n",
      "32.967168834000006 15.77965621193832\n"
     ]
    }
   ],
   "source": [
    "print(f\"spliting data for {target}\")\n",
    "train_t, train_x_cond = normal_split_t_x(\n",
    "df=raw_train_data, target=target, input_features=COND\n",
    ")\n",
    "print(\"\\n Training features:\\n\")\n",
    "print(train_x_cond)\n",
    "test_t, test_x_cond = normal_split_t_x(df=raw_test_data, target=target, input_features=COND)\n",
    "print(\"test_t shape = \", test_t.shape, \"test_x shape = \", test_x.shape)\n",
    "\n",
    "\n",
    "print(\"no need to train_test_split since we already have the split dataframes\")\n",
    "print(\"test_x_cond shape = \", test_x_cond.shape)\n",
    "\n",
    "print(train_x_cond.mean(axis=0), train_x_cond.std(axis=0))\n",
    "print(valid_t.mean(), valid_t.std())\n",
    "print(train_t.mean(), train_t.std())"
   ]
  },
  {
   "cell_type": "code",
   "execution_count": 12,
   "id": "d868f03a-c3f5-446a-bdba-022dae6bb24b",
   "metadata": {},
   "outputs": [],
   "source": [
    "def get_batch(x, t, batch_size):\n",
    "    # the numpy function choice(length, number)\n",
    "    # selects at random \"batch_size\" integers from\n",
    "    # the range [0, length-1] corresponding to the\n",
    "    # row indices.\n",
    "    rows = np.random.choice(len(x), batch_size)\n",
    "    batch_x = x[rows]\n",
    "    batch_t = t[rows]\n",
    "    # batch_x.T[-1] = np.random.uniform(0, 1, batch_size)\n",
    "    return (batch_x, batch_t)"
   ]
  },
  {
   "cell_type": "markdown",
   "id": "cbeb6fb2-39ea-48d5-88ef-2af6dd426103",
   "metadata": {},
   "source": [
    "## train"
   ]
  },
  {
   "cell_type": "code",
   "execution_count": 13,
   "id": "30986d47-3734-4d14-937e-615654ca21b1",
   "metadata": {},
   "outputs": [],
   "source": [
    "num_layers = 5\n",
    "N_FEATURES=train_x.shape[1]\n",
    "base_dist = StandardNormal(shape=[N_FEATURES])\n",
    "# base_dist = ConditionalDiagonalNormal(shape=[N_FEATURES], \n",
    "                                      # context_encoder=nn.Linear(N_FEATURES, 4)\n",
    "                                     # )\n",
    "transforms = []\n",
    "for _ in range(num_layers):\n",
    "    transforms.append(ReversePermutation(features=N_FEATURES))\n",
    "    transforms.append(MaskedAffineAutoregressiveTransform(features=N_FEATURES, \n",
    "                                                          hidden_features=4,\n",
    "                                                         context_features=4))\n",
    "    \n",
    "transform = CompositeTransform(transforms)\n",
    "\n",
    "flow = Flow(transform, base_dist)\n",
    "optimizer = optim.Adam(flow.parameters(), lr = 1E-3)"
   ]
  },
  {
   "cell_type": "code",
   "execution_count": 14,
   "id": "f9689089-61d8-4234-b5ac-55b0c92257c9",
   "metadata": {},
   "outputs": [],
   "source": [
    "def train_flow(n_iterations):\n",
    "    for i in range(n_iterations):\n",
    "        # get data (reco jets)\n",
    "        batch_x, batch_t = get_batch(train_x, train_t, 58)\n",
    "        x = torch.tensor(batch_x, dtype=torch.float32)\n",
    "        # get conditioning variables (gen jets)\n",
    "        batch_x_cond, batch_t = get_batch(train_x_cond, train_t, 58)\n",
    "        x_cond = torch.tensor(batch_x_cond, dtype=torch.float32)\n",
    "        \n",
    "        optimizer.zero_grad()\n",
    "        loss = -flow.log_prob(inputs = x, context = x_cond).mean()\n",
    "        loss.backward()\n",
    "        optimizer.step()"
   ]
  },
  {
   "cell_type": "code",
   "execution_count": 15,
   "id": "4770b1d6-7a91-4058-a67f-582cef5df69a",
   "metadata": {},
   "outputs": [],
   "source": [
    "train_flow(5000)"
   ]
  },
  {
   "cell_type": "code",
   "execution_count": 16,
   "id": "6d1774aa-1c01-4b29-9b1f-ea1fcde05dcd",
   "metadata": {},
   "outputs": [
    {
     "data": {
      "text/plain": [
       "(100000, 4)"
      ]
     },
     "execution_count": 16,
     "metadata": {},
     "output_type": "execute_result"
    }
   ],
   "source": [
    "test_x.shape"
   ]
  },
  {
   "cell_type": "code",
   "execution_count": 17,
   "id": "44dbc79b-ad48-4505-bd99-d6905e6c57d8",
   "metadata": {},
   "outputs": [],
   "source": [
    "def evaluate_flow():\n",
    "    test_X=torch.tensor(test_x, dtype=torch.float32)\n",
    "    likelihood  = flow.log_prob(test_X).exp()\n",
    "    return likelihood"
   ]
  },
  {
   "cell_type": "code",
   "execution_count": 18,
   "id": "d3f2cf75-b9d1-458c-8197-fb413c8e617c",
   "metadata": {},
   "outputs": [],
   "source": [
    "likelihood = evaluate_flow()"
   ]
  },
  {
   "cell_type": "code",
   "execution_count": 19,
   "id": "d8b4954d-94eb-4c83-b2bf-6fc701ef101b",
   "metadata": {},
   "outputs": [
    {
     "data": {
      "text/plain": [
       "torch.Size([100000])"
      ]
     },
     "execution_count": 19,
     "metadata": {},
     "output_type": "execute_result"
    }
   ],
   "source": [
    "likelihood.shape"
   ]
  },
  {
   "cell_type": "code",
   "execution_count": 36,
   "id": "de0122c2-3f37-458e-b27b-70ecd4969166",
   "metadata": {},
   "outputs": [],
   "source": [
    "SUBSAMPLE=1000\n",
    "rows = np.random.choice(len(test_x_cond), SUBSAMPLE)"
   ]
  },
  {
   "cell_type": "code",
   "execution_count": 37,
   "id": "1321060c-cd0f-4fcf-878e-cb82127639aa",
   "metadata": {},
   "outputs": [
    {
     "data": {
      "text/plain": [
       "array([[28.84    , -1.2665  ,  2.29766 , 12.1307  ],\n",
       "       [24.1136  , -4.27195 ,  1.43597 ,  7.71134 ],\n",
       "       [23.3072  ,  4.6496  , -0.951818,  5.17797 ],\n",
       "       ...,\n",
       "       [20.1731  , -0.552215,  1.33108 ,  5.76411 ],\n",
       "       [52.433   ,  0.806837,  0.189618, 10.6374  ],\n",
       "       [37.1635  ,  2.75244 ,  1.79586 ,  7.63404 ]])"
      ]
     },
     "execution_count": 37,
     "metadata": {},
     "output_type": "execute_result"
    }
   ],
   "source": [
    "test_x_cond_context = test_x_cond[rows]\n",
    "test_x_cond_context"
   ]
  },
  {
   "cell_type": "code",
   "execution_count": 38,
   "id": "ad3b4c70-6eab-494b-8cfd-903abba8a897",
   "metadata": {},
   "outputs": [
    {
     "data": {
      "text/plain": [
       "(array([732., 187.,  53.,  16.,   4.,   2.,   2.,   2.,   0.,   2.]),\n",
       " array([ 20.0305 ,  35.83615,  51.6418 ,  67.44745,  83.2531 ,  99.05875,\n",
       "        114.8644 , 130.67005, 146.4757 , 162.28135, 178.087  ]),\n",
       " <BarContainer object of 10 artists>)"
      ]
     },
     "execution_count": 38,
     "metadata": {},
     "output_type": "execute_result"
    },
    {
     "data": {
      "image/png": "[encoded data removed]",
      "text/plain": [
       "<Figure size 640x480 with 1 Axes>"
      ]
     },
     "metadata": {},
     "output_type": "display_data"
    }
   ],
   "source": [
    "plt.hist(test_x_cond_context[:,0])"
   ]
  },
  {
   "cell_type": "code",
   "execution_count": 39,
   "id": "d90ef088-def8-4246-ae22-4192202eb2b3",
   "metadata": {},
   "outputs": [
    {
     "data": {
      "text/plain": [
       "tensor([[28.8400, -1.2665,  2.2977, 12.1307],\n",
       "        [24.1136, -4.2719,  1.4360,  7.7113],\n",
       "        [23.3072,  4.6496, -0.9518,  5.1780],\n",
       "        ...,\n",
       "        [20.1731, -0.5522,  1.3311,  5.7641],\n",
       "        [52.4330,  0.8068,  0.1896, 10.6374],\n",
       "        [37.1635,  2.7524,  1.7959,  7.6340]])"
      ]
     },
     "execution_count": 39,
     "metadata": {},
     "output_type": "execute_result"
    }
   ],
   "source": [
    "context = torch.tensor(test_x_cond_context,dtype=torch.float32)\n",
    "context"
   ]
  },
  {
   "cell_type": "code",
   "execution_count": null,
   "id": "b9dc6545-01b9-4d4b-9e4e-3bbbc2f1f7f7",
   "metadata": {},
   "outputs": [],
   "source": [
    "samples = flow.sample(\n",
    "    # test_x.shape[0],\n",
    "    2000,\n",
    "    context = context\n",
    "    \n",
    ").detach().numpy()\n",
    "samples"
   ]
  },
  {
   "cell_type": "code",
   "execution_count": 30,
   "id": "ea0dfebf-87df-4767-bc94-d306f97bf62a",
   "metadata": {},
   "outputs": [
    {
     "data": {
      "text/plain": [
       "(1, 200000, 4)"
      ]
     },
     "execution_count": 30,
     "metadata": {},
     "output_type": "execute_result"
    }
   ],
   "source": [
    "samples.shape"
   ]
  },
  {
   "cell_type": "code",
   "execution_count": 31,
   "id": "4ceedcd6-45e6-4b9b-8004-56c37220347b",
   "metadata": {},
   "outputs": [
    {
     "data": {
      "text/plain": [
       "array([[41.57598 , 54.761528, 29.230541, ..., 73.444275, 15.749493,\n",
       "        40.730896]], dtype=float32)"
      ]
     },
     "execution_count": 31,
     "metadata": {},
     "output_type": "execute_result"
    }
   ],
   "source": [
    "samples[:, :, 0]"
   ]
  },
  {
   "cell_type": "code",
   "execution_count": 34,
   "id": "1bdd26bd-6c91-4222-9f15-dd5f499cd095",
   "metadata": {},
   "outputs": [
    {
     "data": {
      "text/plain": [
       "(-34.551365, 1954.3479, 38.714733)"
      ]
     },
     "execution_count": 34,
     "metadata": {},
     "output_type": "execute_result"
    }
   ],
   "source": [
    "ind = 0\n",
    "samples[ind, :, ind].min(), samples[ind, :, ind].max(), samples[ind, :, ind].mean()"
   ]
  },
  {
   "cell_type": "code",
   "execution_count": 35,
   "id": "9d7f00c7-c216-4355-b432-51187c1fe64e",
   "metadata": {},
   "outputs": [
    {
     "data": {
      "image/png": "[encoded data removed]",
      "text/plain": [
       "<Figure size 640x480 with 1 Axes>"
      ]
     },
     "metadata": {},
     "output_type": "display_data"
    }
   ],
   "source": [
    "plt.hist(samples[0, :, 0].flatten());"
   ]
  },
  {
   "cell_type": "markdown",
   "id": "3bd19420-00b0-4a30-b466-9427f647b2ef",
   "metadata": {},
   "source": [
    "## Shape of samples\n",
    "\n",
    "\n",
    "`samples` Shape: (1000, 100, 4)\n",
    "\n",
    "- Dimension 0 (size 1000): Corresponds to each conditioning variable in context. So, for each of the 1000 conditioning variables, you have generated samples.\n",
    "\n",
    "- Dimension 1 (size 100): Represents the number of samples generated per conditioning variable.\n",
    "\n",
    "- Dimension 2 (size 4): Represents the features (dimensions) of each generated sample.\n",
    "\n",
    "Therefore, `samples[i, j, k]` gives you:\n",
    "\n",
    "- i (0 ≤ i < 1000): The index of the conditioning variable (context index).\n",
    "- j (0 ≤ j < 100): The index of the sample generated for that conditioning variable.\n",
    "- k (0 ≤ k < 4): The index of the feature in the generated sample."
   ]
  },
  {
   "cell_type": "markdown",
   "id": "a922ac77-8ade-4694-9967-30457666153a",
   "metadata": {},
   "source": [
    "# Plot"
   ]
  },
  {
   "cell_type": "code",
   "execution_count": 49,
   "id": "0c2fa68d-0180-47a7-9e6e-2f7c45bb1ca4",
   "metadata": {},
   "outputs": [],
   "source": [
    "\n",
    "def get_hist_simple(predicted_dist, target):\n",
    "    \n",
    "    range_ = (FIELDS[target][\"xmin\"], FIELDS[target][\"xmax\"])\n",
    "    bins=50\n",
    "    predicted_label_counts, label_edges = np.histogram(\n",
    "        predicted_dist, range=range_, bins=bins\n",
    "    )\n",
    "    \n",
    "    REAL_DIST = raw_test_data[target]\n",
    "    real_label_counts, _ = np.histogram(REAL_DIST, range=range_, bins=bins)\n",
    "    label_edges = label_edges[1:] / 2 + label_edges[:-1] / 2\n",
    "    return real_label_counts, predicted_label_counts, label_edges"
   ]
  },
  {
   "cell_type": "code",
   "execution_count": 50,
   "id": "e6abb15f-a85d-4baa-9bd9-a21ff8cbd8c6",
   "metadata": {},
   "outputs": [],
   "source": [
    "def plot_one(\n",
    "    target, real_edges, real_counts, predicted_counts, save_plot=False, PARAMS=None, JUPYTER=True\n",
    "):\n",
    "    norm_data = raw_test_data.shape[0]\n",
    "    norm_predicted = samples.shape[0]\n",
    "    fig, (ax1, ax2) = plt.subplots(\n",
    "        2, 1, figsize=(3.5 * 3 / 2.5, 3.8), gridspec_kw={\"height_ratios\": [2, 0.5]}\n",
    "    )\n",
    "    ax1.step(\n",
    "        real_edges, real_counts / norm_data, where=\"mid\", color=\"k\", linewidth=0.5\n",
    "    )  # step real_count_pt\n",
    "    \n",
    "    ax1.step(\n",
    "        real_edges,\n",
    "        predicted_counts / norm_predicted,\n",
    "        where=\"mid\",\n",
    "        color=\"#D7301F\",\n",
    "        linewidth=0.5,\n",
    "    )  # step predicted_count_pt\n",
    "    ax1.scatter(\n",
    "        real_edges,\n",
    "        real_counts / norm_data,\n",
    "        label=\"reco\",\n",
    "        color=\"k\",\n",
    "        facecolors=\"none\",\n",
    "        marker=\"o\",\n",
    "        s=5,\n",
    "        linewidth=0.5,\n",
    "    )\n",
    "    ax1.scatter(\n",
    "        real_edges,\n",
    "        predicted_counts / norm_predicted,\n",
    "        label=\"NF\",\n",
    "        color=\"#D7301F\",\n",
    "        marker=\"x\",\n",
    "        s=5,\n",
    "        linewidth=0.5,\n",
    "    )\n",
    "    ax1.set_xlim(range_)\n",
    "    ax1.set_ylim(0, max(predicted_counts / norm_predicted) * 1.1)\n",
    "    ax1.set_ylabel(\"counts\")\n",
    "    ax1.set_xticklabels([])\n",
    "    ax1.legend(loc=\"upper right\")\n",
    "\n",
    "    ratio = (predicted_counts / norm_predicted) / (real_counts / norm_data)\n",
    "    ax2.scatter(\n",
    "        real_edges, ratio, color=\"r\", marker=\"x\", s=5, linewidth=0.5\n",
    "    )  # PREDICTED (IQN)/Reco (Data)\n",
    "    ax2.scatter(\n",
    "        real_edges,\n",
    "        ratio / ratio,\n",
    "        color=\"k\",\n",
    "        marker=\"o\",\n",
    "        facecolors=\"none\",\n",
    "        s=5,\n",
    "        linewidth=0.5,\n",
    "    )\n",
    "    ax2.set_xlim(range_)\n",
    "    ax2.set_xlabel(FIELDS[target][\"xlabel\"])\n",
    "    ax2.set_ylabel(\n",
    "        r\"$\\frac{\\textnormal{predicted}}{\\textnormal{reco}}$\"\n",
    "        #    , fontsize=10\n",
    "    )\n",
    "    ax2.set_ylim((YLIM))\n",
    "    ax2.set_xlim(range_)\n",
    "    ax2.set_yticklabels([0.8, 1.0, 1.2])\n",
    "#     if JUPYTER==True:\n",
    "#         plt.show()\n",
    "#     else:\n",
    "        \n",
    "#         plt.tight_layout()\n",
    "#         fig.subplots_adjust(wspace=0.5, hspace=0.2)\n",
    "#         fig.subplots_adjust(wspace=0.0, hspace=0.1)\n",
    "#         plt.axis('off')\n",
    "\n",
    "\n",
    "    if save_plot:\n",
    "        # plot_filename = utils.get_model_filename(target, PARAMS).split(\".dict\")[0] + \".png\"\n",
    "        plot_filename = 'NF_' + target + '.pdf'\n",
    "        plt.savefig(\n",
    "            os.path.join(IQN_BASE, \"JupyterBook\", \n",
    "                         \"images\", \"NF\", plot_filename),\n",
    "            bbox_inches='tight'\n",
    "        )\n",
    "\n",
    "\n",
    "    fig.show()\n",
    "    plt.show();\n",
    "    # plt.gca().set_position([0, 0, 1, 1])\n",
    "\n"
   ]
  },
  {
   "cell_type": "markdown",
   "id": "6dbf8b05-79fd-4544-b10d-5cd9d33bb904",
   "metadata": {},
   "source": [
    "## $p_T$"
   ]
  },
  {
   "cell_type": "code",
   "execution_count": 51,
   "id": "c2d3b09d-9561-4228-8b4d-5b39eb0f7ea3",
   "metadata": {},
   "outputs": [],
   "source": [
    "target = 'RecoDatapT'\n",
    "range_ = (FIELDS[target][\"xmin\"], FIELDS[target][\"xmax\"])\n",
    "bins = 50\n",
    "\n",
    "YLIM = (0.8, 1.2)\n",
    "\n",
    "real_label_counts_pT, predicted_label_counts_pT, label_edges_pT = get_hist_simple(\n",
    "    predicted_dist=samples[:,0], target=target\n",
    ")"
   ]
  },
  {
   "cell_type": "code",
   "execution_count": 52,
   "id": "e930908c-180c-40bd-9b09-c9c76dc458d3",
   "metadata": {},
   "outputs": [
    {
     "name": "stderr",
     "output_type": "stream",
     "text": [
      "/tmp/ipykernel_2112041/2957069285.py:66: UserWarning: FixedFormatter should only be used together with FixedLocator\n",
      "  ax2.set_yticklabels([0.8, 1.0, 1.2])\n",
      "/tmp/ipykernel_2112041/2957069285.py:87: UserWarning: Matplotlib is currently using module://matplotlib_inline.backend_inline, which is a non-GUI backend, so cannot show the figure.\n",
      "  fig.show()\n"
     ]
    },
    {
     "data": {
      "image/png": "[encoded data removed]",
      "text/plain": [
       "<Figure size 420x380 with 2 Axes>"
      ]
     },
     "metadata": {},
     "output_type": "display_data"
    }
   ],
   "source": [
    "plot_one(\n",
    "    target=target,\n",
    "    real_edges=label_edges_pT,\n",
    "    real_counts=real_label_counts_pT,\n",
    "    predicted_counts=predicted_label_counts_pT,\n",
    "    save_plot=True,\n",
    "    PARAMS=PARAMS_m\n",
    ")"
   ]
  },
  {
   "cell_type": "markdown",
   "id": "1eed5dfe-eb19-45fb-ad62-bddec6c03282",
   "metadata": {},
   "source": [
    "## $\\eta$"
   ]
  },
  {
   "cell_type": "code",
   "execution_count": 182,
   "id": "65f6034e-0555-4b56-bd88-cad718066b29",
   "metadata": {},
   "outputs": [],
   "source": [
    "target = 'RecoDataeta'\n",
    "range_ = (FIELDS[target][\"xmin\"], FIELDS[target][\"xmax\"])\n",
    "bins = 50\n",
    "\n",
    "YLIM = (0.8, 1.2)\n",
    "\n",
    "real_label_counts_eta, predicted_label_counts_eta, label_edges_eta = get_hist_simple(\n",
    "    predicted_dist=samples[:,1], target=target\n",
    ")"
   ]
  },
  {
   "cell_type": "code",
   "execution_count": 183,
   "id": "c6b03c4e-d247-4663-8414-585fdb23e580",
   "metadata": {},
   "outputs": [
    {
     "name": "stderr",
     "output_type": "stream",
     "text": [
      "/tmp/ipykernel_2060471/2957069285.py:66: UserWarning: FixedFormatter should only be used together with FixedLocator\n",
      "  ax2.set_yticklabels([0.8, 1.0, 1.2])\n",
      "/tmp/ipykernel_2060471/2957069285.py:87: UserWarning: Matplotlib is currently using module://matplotlib_inline.backend_inline, which is a non-GUI backend, so cannot show the figure.\n",
      "  fig.show()\n"
     ]
    },
    {
     "data": {
      "image/png": "[encoded data removed]",
      "text/plain": [
       "<Figure size 420x380 with 2 Axes>"
      ]
     },
     "metadata": {},
     "output_type": "display_data"
    }
   ],
   "source": [
    "plot_one(\n",
    "    target=target,\n",
    "    real_edges=label_edges_eta,\n",
    "    real_counts=real_label_counts_eta,\n",
    "    predicted_counts=predicted_label_counts_eta,\n",
    "    save_plot=True,\n",
    "    PARAMS=PARAMS_m\n",
    ")"
   ]
  },
  {
   "cell_type": "markdown",
   "id": "5ac3601d-30bc-4a9e-ba5f-5249d31c28bd",
   "metadata": {},
   "source": [
    "## $\\phi$"
   ]
  },
  {
   "cell_type": "code",
   "execution_count": 184,
   "id": "47362ff0-8858-4601-a9ba-d675eafa7bfd",
   "metadata": {},
   "outputs": [],
   "source": [
    "target = 'RecoDataphi'\n",
    "range_ = (FIELDS[target][\"xmin\"], FIELDS[target][\"xmax\"])\n",
    "bins = 50\n",
    "\n",
    "YLIM = (0.8, 1.2)\n",
    "\n",
    "real_label_counts_phi, predicted_label_counts_phi, label_edges_phi = get_hist_simple(\n",
    "    predicted_dist=samples[:,2], target=target\n",
    ")"
   ]
  },
  {
   "cell_type": "code",
   "execution_count": 185,
   "id": "fd24b850-0d3b-40c0-9b62-0849f4416de0",
   "metadata": {},
   "outputs": [
    {
     "name": "stderr",
     "output_type": "stream",
     "text": [
      "/tmp/ipykernel_2060471/2957069285.py:66: UserWarning: FixedFormatter should only be used together with FixedLocator\n",
      "  ax2.set_yticklabels([0.8, 1.0, 1.2])\n",
      "/tmp/ipykernel_2060471/2957069285.py:87: UserWarning: Matplotlib is currently using module://matplotlib_inline.backend_inline, which is a non-GUI backend, so cannot show the figure.\n",
      "  fig.show()\n"
     ]
    },
    {
     "data": {
      "image/png": "[encoded data removed]",
      "text/plain": [
       "<Figure size 420x380 with 2 Axes>"
      ]
     },
     "metadata": {},
     "output_type": "display_data"
    }
   ],
   "source": [
    "plot_one(\n",
    "    target=target,\n",
    "    real_edges=label_edges_phi,\n",
    "    real_counts=real_label_counts_phi,\n",
    "    predicted_counts=predicted_label_counts_phi,\n",
    "    save_plot=True,\n",
    "    PARAMS=PARAMS_m\n",
    ")"
   ]
  },
  {
   "cell_type": "markdown",
   "id": "cbbd7542-30b2-423d-b88f-0e4c8256ddf4",
   "metadata": {},
   "source": [
    "## $m$"
   ]
  },
  {
   "cell_type": "code",
   "execution_count": 186,
   "id": "0f1ed1af-4dfa-443a-9063-296e2a0805d0",
   "metadata": {},
   "outputs": [],
   "source": [
    "target = 'RecoDatam'\n",
    "range_ = (FIELDS[target][\"xmin\"], FIELDS[target][\"xmax\"])\n",
    "bins = 50\n",
    "\n",
    "YLIM = (0.8, 1.2)\n",
    "\n",
    "real_label_counts_m, predicted_label_counts_m, label_edges_m = get_hist_simple(\n",
    "    predicted_dist=samples[:,3], target=target\n",
    ")"
   ]
  },
  {
   "cell_type": "code",
   "execution_count": 187,
   "id": "eb6ae265-b8e7-45ff-8815-fb9c26c914a4",
   "metadata": {},
   "outputs": [
    {
     "name": "stderr",
     "output_type": "stream",
     "text": [
      "/tmp/ipykernel_2060471/2957069285.py:66: UserWarning: FixedFormatter should only be used together with FixedLocator\n",
      "  ax2.set_yticklabels([0.8, 1.0, 1.2])\n",
      "/tmp/ipykernel_2060471/2957069285.py:87: UserWarning: Matplotlib is currently using module://matplotlib_inline.backend_inline, which is a non-GUI backend, so cannot show the figure.\n",
      "  fig.show()\n"
     ]
    },
    {
     "data": {
      "image/png": "[encoded data removed]",
      "text/plain": [
       "<Figure size 420x380 with 2 Axes>"
      ]
     },
     "metadata": {},
     "output_type": "display_data"
    }
   ],
   "source": [
    "plot_one(\n",
    "    target=target,\n",
    "    real_edges=label_edges_m,\n",
    "    real_counts=real_label_counts_m,\n",
    "    predicted_counts=predicted_label_counts_m,\n",
    "    save_plot=True,\n",
    "    PARAMS=PARAMS_m\n",
    ")"
   ]
  },
  {
   "cell_type": "code",
   "execution_count": null,
   "id": "efbeaa7c-a225-4263-8093-66f5abeab005",
   "metadata": {},
   "outputs": [],
   "source": []
  }
 ],
 "metadata": {
  "kernelspec": {
   "display_name": "Python 3 (ipykernel)",
   "language": "python",
   "name": "python3"
  },
  "language_info": {
   "codemirror_mode": {
    "name": "ipython",
    "version": 3
   },
   "file_extension": ".py",
   "mimetype": "text/x-python",
   "name": "python",
   "nbconvert_exporter": "python",
   "pygments_lexer": "ipython3",
   "version": "3.9.13"
  }
 },
 "nbformat": 4,
 "nbformat_minor": 5
}
